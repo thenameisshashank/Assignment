{
 "cells": [
  {
   "cell_type": "code",
   "execution_count": 4,
   "id": "186e0e76-e774-41d1-8a08-66e7eb3395fa",
   "metadata": {},
   "outputs": [
    {
     "data": {
      "text/plain": [
       "('Mahindra \"THAR\"', 200, 15)"
      ]
     },
     "execution_count": 4,
     "metadata": {},
     "output_type": "execute_result"
    }
   ],
   "source": [
    "\"\"\"\n",
    "Q1, Create a vehicle class with an init method having instance variables as name_of_vehicle, max_speed\n",
    "and average_of_vehicle.\"\"\"\n",
    "\n",
    "\n",
    "class vehicle:\n",
    "    \n",
    "    def __init__(self , name_of_vehicle , max_speed_vehicle , average_of_vehicle):\n",
    "        self.name_of_vehicle = name_of_vehicle\n",
    "        self.max_speed_vehicle = max_speed_vehicle\n",
    "        self.average_of_vehicle = average_of_vehicle\n",
    "        \n",
    "    def vehicle_meter_info(self):\n",
    "        return self.name_of_vehicle , self.max_speed_vehicle , self.average_of_vehicle\n",
    "\n",
    "# Example usage :\n",
    "\n",
    "car = vehicle('Mahindra \"THAR\"' , 200 , 15)  # name_of_vehicle = Mhindra THAR\n",
    "car.vehicle_meter_info()                     # max_speed_vehicle = 200\n",
    "                                             # average_of_vehicle = 15"
   ]
  },
  {
   "cell_type": "code",
   "execution_count": 5,
   "id": "23960c5a-34bc-42aa-a206-1c632fbd0898",
   "metadata": {},
   "outputs": [
    {
     "name": "stdout",
     "output_type": "stream",
     "text": [
      "('Mahindra \"THAR\"', <bound method Car.seating_capacity of <__main__.Car object at 0x7f9a0c6c6140>>)\n"
     ]
    }
   ],
   "source": [
    "'''Q2. Create a child class car from the vehicle class created in Que 1, which will inherit the vehicle class.\n",
    "Create a method named seating_capacity which takes capacity as an argument and returns the name of\n",
    "the vehicle and its seating capacity.'''\n",
    "class vehicle: \n",
    "    def __init__(self , name_of_vehicle , max_speed_vehicle , average_of_vehicle):\n",
    "        self.name_of_vehicle = name_of_vehicle \n",
    "        self.max_speed_vehicle = max_speed_vehicle \n",
    "        self.average_of_vehicle = average_of_vehicle\n",
    "    \n",
    "    def vehicle_meter_info(self):\n",
    "        return self.name_of_vehicle , self.max_speed_vehicle , self.average_of_vehicle\n",
    "    \n",
    "class Car(vehicle):\n",
    "    def seating_capacity(self, capacity):\n",
    "        #print(self.name_of_vehicle, self.seating_capacity)\n",
    "        return self.name_of_vehicle,self.seating_capacity\n",
    "\n",
    "# Example usage :\n",
    "    \n",
    "car = Car('Mahindra \"THAR\"' , 200 , 15)    # name_of_vehicle = Mahindra THAR\n",
    "                                           # seating_capacity = 4\n",
    "print(car.seating_capacity(4))"
   ]
  },
  {
   "cell_type": "code",
   "execution_count": 18,
   "id": "9ea59370-d3e4-4fab-8b57-064fd620a29f",
   "metadata": {},
   "outputs": [
    {
     "name": "stdout",
     "output_type": "stream",
     "text": [
      "Bat\n",
      "Mammal sound\n",
      "I can fly!\n"
     ]
    }
   ],
   "source": [
    "''' Q3. What is multiple inheritance? Write a python code to demonstrate multiple inheritance.'''\n",
    "\n",
    "\n",
    "class Animal:\n",
    "    \n",
    "    def __init__(self , name):\n",
    "        self.name = name\n",
    "        \n",
    "    def speak(self):\n",
    "        pass\n",
    "        \n",
    "        \n",
    "class Mammal(Animal):\n",
    "    def speak(self):\n",
    "        return 'Mammal sound'\n",
    "    \n",
    "class Flyable:\n",
    "    def fly (self):\n",
    "        return 'I can fly!'\n",
    "\n",
    "class Bat(Mammal,Flyable):\n",
    "    pass\n",
    "\n",
    "\n",
    "\n",
    "# Example usage :\n",
    "\n",
    "bat = Bat('Bat')\n",
    "print(bat.name)      # Bat\n",
    "print(bat.speak())   # Mammal sound\n",
    "print(bat.fly())     # I can fly!"
   ]
  },
  {
   "cell_type": "code",
   "execution_count": 5,
   "id": "21213fb7-c4e7-48f8-9324-f29b3fe785ef",
   "metadata": {},
   "outputs": [
    {
     "name": "stdout",
     "output_type": "stream",
     "text": [
      "PW\n",
      "skills\n"
     ]
    }
   ],
   "source": [
    "'''Q4. What are getter and setter in python? Create a class and create a getter and a setter method in this\n",
    "class.'''\n",
    "\n",
    "class Person:\n",
    "    def __init__(self , name):\n",
    "        self._name = name\n",
    "        \n",
    "    def get_name(self):\n",
    "        return self._name\n",
    "    \n",
    "    def set_name(self, new_name):\n",
    "        self._name = new_name\n",
    "        \n",
    "        \n",
    "        \n",
    "        \n",
    "# Example usage :\n",
    "\n",
    "person = Person('PW')\n",
    "print(person.get_name())    # PW\n",
    "\n",
    "person.set_name('skills')\n",
    "print(person.get_name())    # skills"
   ]
  },
  {
   "cell_type": "code",
   "execution_count": 9,
   "id": "a144a76a-2094-426a-b9ab-f199ae80366c",
   "metadata": {},
   "outputs": [
    {
     "name": "stdout",
     "output_type": "stream",
     "text": [
      "35\n"
     ]
    }
   ],
   "source": [
    "'''Q5.What is method overriding in python? Write a python code to demonstrate method overriding.'''\n",
    "\n",
    "#by using overriding a subclass can change the behavior of the method while keeping the same method name and signature\n",
    "\n",
    "class shape:\n",
    "    def area(self):\n",
    "        return 0\n",
    "    \n",
    "    \n",
    "class Rectangle(shape):\n",
    "    def __init__(self , length , width):\n",
    "        self.length = length\n",
    "        self.width = width\n",
    "        \n",
    "    def area(self):\n",
    "        return self.length * self.width\n",
    "    \n",
    "    \n",
    "    \n",
    "# Example usage :\n",
    "rectangle = Rectangle(5 , 7)  # 35\n",
    "print(rectangle.area())"
   ]
  },
  {
   "cell_type": "code",
   "execution_count": null,
   "id": "b66c3f4f-d11c-46d1-853d-81b06672466f",
   "metadata": {},
   "outputs": [],
   "source": []
  }
 ],
 "metadata": {
  "kernelspec": {
   "display_name": "Python 3 (ipykernel)",
   "language": "python",
   "name": "python3"
  },
  "language_info": {
   "codemirror_mode": {
    "name": "ipython",
    "version": 3
   },
   "file_extension": ".py",
   "mimetype": "text/x-python",
   "name": "python",
   "nbconvert_exporter": "python",
   "pygments_lexer": "ipython3",
   "version": "3.10.8"
  }
 },
 "nbformat": 4,
 "nbformat_minor": 5
}
